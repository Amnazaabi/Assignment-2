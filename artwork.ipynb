{
 "cells": [
  {
   "cell_type": "code",
   "execution_count": 3,
   "id": "7eeb49da",
   "metadata": {},
   "outputs": [],
   "source": [
    "class Artwork:\n",
    "    def __init__(self, title, artist, date_of_creation, historical_significance, exhibition_location):\n",
    "        self._title = title\n",
    "        self._artist = artist\n",
    "        self._date_of_creation = date_of_creation\n",
    "        self._historical_significance = historical_significance\n",
    "        self._exhibition_location = exhibition_location\n",
    "\n",
    "    def get_title(self):\n",
    "        return self._title\n",
    "\n",
    "    def set_title(self, title):\n",
    "        self._title = title\n",
    "\n",
    "    def get_artist(self):\n",
    "        return self._artist\n",
    "\n",
    "    def set_artist(self, artist):\n",
    "        self._artist = artist\n",
    "\n",
    "    def get_date_of_creation(self):\n",
    "        return self._date_of_creation\n",
    "\n",
    "    def set_date_of_creation(self, date_of_creation):\n",
    "        self._date_of_creation = date_of_creation\n",
    "\n",
    "    def get_historical_significance(self):\n",
    "        return self._historical_significance\n",
    "\n",
    "    def set_historical_significance(self, historical_significance):\n",
    "        self._historical_significance = historical_significance\n",
    "\n",
    "    def get_exhibition_location(self):\n",
    "        return self._exhibition_location\n",
    "\n",
    "    def set_exhibition_location(self, exhibition_location):\n",
    "        self._exhibition_location = exhibition_location\n",
    "\n",
    "    def get_details(self):\n",
    "        return f\"Title: {self._title}, Artist: {self._artist}, Date of Creation: {self._date_of_creation}, Historical Significance: {self._historical_significance}, Exhibition Location: {self._exhibition_location.get_name()}\"\n",
    "\n",
    "    def display_details(self):\n",
    "        print(self.get_details())"
   ]
  },
  {
   "cell_type": "code",
   "execution_count": null,
   "id": "eb4f6fe7",
   "metadata": {},
   "outputs": [],
   "source": []
  }
 ],
 "metadata": {
  "kernelspec": {
   "display_name": "Python 3 (ipykernel)",
   "language": "python",
   "name": "python3"
  },
  "language_info": {
   "codemirror_mode": {
    "name": "ipython",
    "version": 3
   },
   "file_extension": ".py",
   "mimetype": "text/x-python",
   "name": "python",
   "nbconvert_exporter": "python",
   "pygments_lexer": "ipython3",
   "version": "3.10.9"
  }
 },
 "nbformat": 4,
 "nbformat_minor": 5
}
