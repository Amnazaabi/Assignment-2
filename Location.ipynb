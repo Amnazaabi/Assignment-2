{
 "cells": [
  {
   "cell_type": "code",
   "execution_count": null,
   "id": "080b74d1",
   "metadata": {},
   "outputs": [],
   "source": [
    "class Location:\n",
    "    def __init__(self, name):\n",
    "        \"\"\"\n",
    "        Initializes a Location object with a given name.\n",
    "\n",
    "        Args:\n",
    "            name (str): The name of the location.\n",
    "        \"\"\"\n",
    "        self._name = name\n",
    "\n",
    "    def get_name(self):\n",
    "        \"\"\"\n",
    "        Gets the name of the location.\n",
    "\n",
    "        Returns:\n",
    "            str: The name of the location.\n",
    "        \"\"\"\n",
    "        return self._name\n",
    "\n",
    "    def set_name(self, name):\n",
    "        \"\"\"\n",
    "        Sets the name of the location.\n",
    "\n",
    "        Args:\n",
    "            name (str): The new name for the location.\n",
    "        \"\"\"\n",
    "        self._name = name\n"
   ]
  }
 ],
 "metadata": {
  "kernelspec": {
   "display_name": "Python 3 (ipykernel)",
   "language": "python",
   "name": "python3"
  },
  "language_info": {
   "codemirror_mode": {
    "name": "ipython",
    "version": 3
   },
   "file_extension": ".py",
   "mimetype": "text/x-python",
   "name": "python",
   "nbconvert_exporter": "python",
   "pygments_lexer": "ipython3",
   "version": "3.10.9"
  }
 },
 "nbformat": 4,
 "nbformat_minor": 5
}
