{
 "cells": [
  {
   "cell_type": "code",
   "execution_count": 4,
   "id": "3a1c628a",
   "metadata": {},
   "outputs": [],
   "source": [
    "from artwork import Artwork\n",
    "\n",
    "class Exhibition:\n",
    "    def __init__(self, location, duration):\n",
    "        self._location = location\n",
    "        self._duration = duration\n",
    "        self._artworks = []\n",
    "\n",
    "    # Getter and Setter for location\n",
    "    def get_location(self):\n",
    "        return self._location\n",
    "\n",
    "    def set_location(self, location):\n",
    "        self._location = location\n",
    "\n",
    "    # Getter and Setter for duration\n",
    "    def get_duration(self):\n",
    "        return self._duration\n",
    "\n",
    "    def set_duration(self, duration):\n",
    "        self._duration = duration\n",
    "\n",
    "    def add_artwork(self, artwork):\n",
    "        self._artworks.append(artwork)\n",
    "\n",
    "    def remove_artwork(self, artwork):\n",
    "        self._artworks.remove(artwork)\n",
    "\n",
    "    def get_details(self):\n",
    "        artwork_details = \"\\n\".join(artwork.get_details() for artwork in self._artworks)\n",
    "        return f\"Location: {self._location}, Duration: {self._duration}\\nArtworks:\\n{artwork_details}\"\n",
    "\n",
    "    "
   ]
  },
  {
   "cell_type": "code",
   "execution_count": null,
   "id": "c51f8420",
   "metadata": {},
   "outputs": [],
   "source": []
  }
 ],
 "metadata": {
  "kernelspec": {
   "display_name": "Python 3 (ipykernel)",
   "language": "python",
   "name": "python3"
  },
  "language_info": {
   "codemirror_mode": {
    "name": "ipython",
    "version": 3
   },
   "file_extension": ".py",
   "mimetype": "text/x-python",
   "name": "python",
   "nbconvert_exporter": "python",
   "pygments_lexer": "ipython3",
   "version": "3.10.9"
  }
 },
 "nbformat": 4,
 "nbformat_minor": 5
}
