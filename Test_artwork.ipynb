{
 "cells": [
  {
   "cell_type": "code",
   "execution_count": 13,
   "id": "9ed6a2ae",
   "metadata": {},
   "outputs": [
    {
     "name": "stdout",
     "output_type": "stream",
     "text": [
      "\n",
      "****************Test case Add Artwork******************\n",
      "Artwork 1 added successfully\n",
      "Title: Mona Lisa, Artist: Leonardo da Vinci, Date of Creation: c. 1503–1506, Historical Significance: Renaissance masterpiece, Exhibition Location: Main Gallery\n",
      "Artwork 2 added successfully\n",
      "Title: Starry Night, Artist: Vincent van Gogh, Date of Creation: 1889, Historical Significance: Post-Impressionist painting, Exhibition Location: Main Gallery\n",
      "\n",
      "****************Test case Remove Artwork******************\n",
      "Artwork 1 removed successfully\n",
      "Artwork 3 doesn't exist, removal test successful.\n"
     ]
    }
   ],
   "source": [
    "from artwork import Artwork\n",
    "from exhibition import Exhibition\n",
    "from Location import Location\n",
    "\n",
    "# Define a simple function to perform tests\n",
    "def run_tests():\n",
    "    location = Location(\"Main Gallery\")\n",
    "    exhibition = Exhibition(location, \"2 weeks\")\n",
    "\n",
    "    artwork1 = Artwork(\"Mona Lisa\", \"Leonardo da Vinci\", \"c. 1503–1506\", \"Renaissance masterpiece\", location)\n",
    "    exhibition.add_artwork(artwork1)\n",
    "    assert artwork1 in exhibition._artworks\n",
    "    print(\"\\n****************Test case Add Artwork******************\")\n",
    "    print(\"Artwork 1 added successfully\")\n",
    "    print(artwork1.get_details())\n",
    "\n",
    "    artwork2 = Artwork(\"Starry Night\", \"Vincent van Gogh\", \"1889\", \"Post-Impressionist painting\", location)\n",
    "    exhibition.add_artwork(artwork2)\n",
    "    assert artwork2 in exhibition._artworks\n",
    "    print(\"Artwork 2 added successfully\")\n",
    "    print(artwork2.get_details())\n",
    "\n",
    "    exhibition.remove_artwork(artwork1)\n",
    "    assert artwork1 not in exhibition._artworks\n",
    "    print(\"\\n****************Test case Remove Artwork******************\")\n",
    "    print(\"Artwork 1 removed successfully\")\n",
    "\n",
    "    # Test removing non-existing artwork\n",
    "    artwork3 = Artwork(\"Starry Night\", \"Vincent van Gogh\", \"1889\", \"Post-Impressionist painting\", location)\n",
    "    try:\n",
    "        exhibition.remove_artwork(artwork3)\n",
    "        assert False  # This line should not be reached\n",
    "    except ValueError:\n",
    "        print(\"Artwork 3 doesn't exist, removal test successful.\")\n",
    "\n",
    "if __name__ == \"__main__\":\n",
    "    run_tests()\n"
   ]
  },
  {
   "cell_type": "code",
   "execution_count": null,
   "id": "bd711c4d",
   "metadata": {},
   "outputs": [],
   "source": []
  }
 ],
 "metadata": {
  "kernelspec": {
   "display_name": "Python 3 (ipykernel)",
   "language": "python",
   "name": "python3"
  },
  "language_info": {
   "codemirror_mode": {
    "name": "ipython",
    "version": 3
   },
   "file_extension": ".py",
   "mimetype": "text/x-python",
   "name": "python",
   "nbconvert_exporter": "python",
   "pygments_lexer": "ipython3",
   "version": "3.10.9"
  }
 },
 "nbformat": 4,
 "nbformat_minor": 5
}
