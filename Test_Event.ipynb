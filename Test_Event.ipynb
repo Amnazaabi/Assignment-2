{
 "cells": [
  {
   "cell_type": "code",
   "execution_count": 2,
   "id": "b14f09a9",
   "metadata": {},
   "outputs": [
    {
     "name": "stdout",
     "output_type": "stream",
     "text": [
      "Test passed successfully!\n",
      "\n",
      "Event Details:\n",
      "Name: Art Exhibition, Location: Main Hall, Duration: 2 hours, Ticket Price: 50.0\n"
     ]
    }
   ],
   "source": [
    "from Event import Event  # Import the Event class\n",
    "from Location import Location  # Import the Location class\n",
    "\n",
    "class TestEvent:\n",
    "    def setUp(self):\n",
    "        self.location = Location(\"Main Hall\")\n",
    "        self.event = Event(\"Art Exhibition\", self.location, \"2 hours\", 50.00)\n",
    "\n",
    "    def test_get_details(self):\n",
    "        expected_details = \"Name: Art Exhibition, Location: Main Hall, Duration: 2 hours, Ticket Price: 50.0\"\n",
    "        assert self.event.get_details() == expected_details\n",
    "\n",
    "# Run the test case\n",
    "tester = TestEvent()\n",
    "tester.setUp()\n",
    "tester.test_get_details()\n",
    "print(\"Test passed successfully!\")\n",
    "\n",
    "# Print the details of the event\n",
    "print(\"\\nEvent Details:\")\n",
    "print(tester.event.get_details())\n"
   ]
  },
  {
   "cell_type": "code",
   "execution_count": null,
   "id": "0925044f",
   "metadata": {},
   "outputs": [],
   "source": []
  }
 ],
 "metadata": {
  "kernelspec": {
   "display_name": "Python 3 (ipykernel)",
   "language": "python",
   "name": "python3"
  },
  "language_info": {
   "codemirror_mode": {
    "name": "ipython",
    "version": 3
   },
   "file_extension": ".py",
   "mimetype": "text/x-python",
   "name": "python",
   "nbconvert_exporter": "python",
   "pygments_lexer": "ipython3",
   "version": "3.10.9"
  }
 },
 "nbformat": 4,
 "nbformat_minor": 5
}
